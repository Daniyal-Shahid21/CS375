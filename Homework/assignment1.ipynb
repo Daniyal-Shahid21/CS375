{
  "cells": [
    {
      "cell_type": "markdown",
      "metadata": {
        "id": "Tajfsk_7JY3E"
      },
      "source": [
        "**Note to grader:** Each question consists of parts, e.g. Q1(i), Q1(ii), etc. Each part must be graded on scale of 0-4 scale, following the standard NJIT convention (A: 4, B+: 3.5, B: 3, C+: 2.5, C: 2, D: 1, F: 0).\n",
        "\n",
        "The total score must be re-scaled to a percentage."
      ]
    },
    {
      "cell_type": "markdown",
      "metadata": {
        "id": "e8SKy70z2osa"
      },
      "source": [
        "----\n",
        "\n",
        "<i>General instructions for this and future notebooks:</i>\n",
        "1. To run a cell and move to the next cell: Hold down <strong>Shift</strong> and press <strong>Enter</strong>.\n",
        "2. To run a cell and stay in the same cell: Hold down <b>Ctrl</b> and press <b>Enter</b>.\n",
        "3. Use the arrow up and down to navigate or do it manually as you prefer.\n",
        "4. Escape from typing a cell: Hit <b>Esc</b>.\n",
        "\n",
        "---------\n",
        "\n",
        "<b>Note: </b>\n",
        "\n",
        "> You must run/evaluate all cells. <b>Order of cell execution is important.</b>\n",
        "\n",
        "\n",
        "\n",
        "> You must work directly out of a copy of the assignment notebook given to you, in the exact order.\n"
      ]
    },
    {
      "cell_type": "code",
      "execution_count": 2,
      "metadata": {
        "id": "I-sfBXk9AkfN"
      },
      "outputs": [],
      "source": [
        "# Grader's area\n",
        "\n",
        "import numpy as np\n",
        "\n",
        "# This assignment contains 5 exercises each with at most 3 parts.\n",
        "# We initialize a 6x4 array M, containing zeros.\n",
        "# The grade for question i, part j, will be recorded in M[i,j].\n",
        "# Then the total grade can be easily computed in the last grader's area.\n",
        "\n",
        "maxScore = 0\n",
        "M = np.zeros((6,4)) #This syntax initializes a 6x4 array, .zeroes makes it so the whole array just has zeroes, so 6 unit long arrays, created 4 times, 2D array"
      ]
    },
    {
      "cell_type": "markdown",
      "metadata": {
        "id": "ly4laI7pfGJO"
      },
      "source": [
        "# **Assignment 1**\n",
        "The first assignment walks you through some elements of Python/Numpy. It is meant mostly to familiarize you with Jupyter notebooks. It includes cells for demonstration, leading to clearly-marked cells for questions.\n",
        "\n"
      ]
    },
    {
      "cell_type": "markdown",
      "metadata": {
        "id": "8owP8xk_yi6h"
      },
      "source": [
        "-----------------------"
      ]
    },
    {
      "cell_type": "markdown",
      "metadata": {
        "id": "r_tl0TKffGJP"
      },
      "source": [
        "### **Part 1: NumPy walk-through**\n",
        "\n",
        "Let's look at matrix A and how it is presented in Numpy:\n",
        "\\begin{equation*}\n",
        "A =\n",
        "\\begin{pmatrix}\n",
        "1 & 2 & 3 \\\\\n",
        "4 & 5 & 6 \\\\\n",
        "7 & 8 & 9\n",
        "\\end{pmatrix}\n",
        "\\end{equation*}"
      ]
    },
    {
      "cell_type": "code",
      "execution_count": 3,
      "metadata": {
        "colab": {
          "base_uri": "https://localhost:8080/"
        },
        "id": "ik4Gngp2fGJQ",
        "outputId": "3043a532-e3df-4590-f62c-eee31426bfbc"
      },
      "outputs": [
        {
          "name": "stdout",
          "output_type": "stream",
          "text": [
            "This is how matrix A will be presented in Numpy:\n",
            "\n",
            " [[1. 2. 3.]\n",
            " [4. 5. 6.]\n",
            " [7. 8. 9.]]\n",
            "\n",
            "We just create a <class 'numpy.ndarray'>\n",
            "Our template has shape as (3, 3) with total size of 9\n",
            "The total dimension of A is 2\n",
            "The data types of elements of A are float64,\n",
            "        which consumes 72 bytes\n"
          ]
        }
      ],
      "source": [
        "import numpy as np\n",
        "\n",
        "# here the notation np.X invokes a function X from module np\n",
        "#    where np is an alias for numpy as note in line-1 above.\n",
        "\n",
        "A = np.array([[1,2,3],[4,5,6],[7,8,9]], dtype = float)\n",
        "print('This is how matrix A will be presented in Numpy:\\n\\n {}\\n'.format(A))\n",
        "\n",
        "# Example of describing A\n",
        "print('We just create a {}'.format(type(A)))\n",
        "print('Our template has shape as {} with total size of {}'.format(A.shape, A.size))\n",
        "print('The total dimension of A is {}'.format(A.ndim))\n",
        "\n",
        "# Multi-line print out\n",
        "print('''The data types of elements of A are {},\n",
        "        which consumes {} bytes'''.format(A.dtype, A.nbytes))\n",
        "#9 Elements, each one is a 64 bit float(No doubles in Python), so 8 bytes * 9 elems = 72 byte structure"
      ]
    },
    {
      "cell_type": "code",
      "execution_count": 4,
      "metadata": {
        "id": "oqhQyAZTfGJV"
      },
      "outputs": [],
      "source": [
        "# create a copy of A with integer type\n",
        "A_copy = np.array(A, dtype=np.int32)"
      ]
    },
    {
      "cell_type": "markdown",
      "metadata": {
        "id": "2XxgGLoIfGJY"
      },
      "source": [
        "#### NumPy array operations"
      ]
    },
    {
      "cell_type": "code",
      "execution_count": 5,
      "metadata": {
        "colab": {
          "base_uri": "https://localhost:8080/"
        },
        "id": "scImnsyJfGJY",
        "outputId": "3b256b9c-955f-4c13-fea0-2e551e474946"
      },
      "outputs": [
        {
          "data": {
            "text/plain": [
              "numpy.ndarray"
            ]
          },
          "execution_count": 5,
          "metadata": {},
          "output_type": "execute_result"
        }
      ],
      "source": [
        "# Turn a python list to numpy array\n",
        "checking_acct = [10.1, 2.3, -3, 100]\n",
        "checking_acct_array = np.asarray(checking_acct)\n",
        "type(checking_acct_array)"
      ]
    },
    {
      "cell_type": "code",
      "execution_count": 6,
      "metadata": {
        "colab": {
          "base_uri": "https://localhost:8080/"
        },
        "id": "mHPmhzdOfGJb",
        "outputId": "d2ad071a-e634-49af-99a7-9f54beccd490"
      },
      "outputs": [
        {
          "data": {
            "text/plain": [
              "array([ 12.1,   4.3,  -1. , 102. ])"
            ]
          },
          "execution_count": 6,
          "metadata": {},
          "output_type": "execute_result"
        }
      ],
      "source": [
        "# adding $2 to each deposit/withdrawal transaction\n",
        "checking_acct_array + 2\n",
        "# Performing a PEMDAS operation to a numpy array, adds/mults/divides/subs to all values collectively"
      ]
    },
    {
      "cell_type": "code",
      "execution_count": 7,
      "metadata": {
        "colab": {
          "base_uri": "https://localhost:8080/"
        },
        "id": "RQAbwx5gfGJe",
        "outputId": "fb925725-1896-4bda-8530-0a892f942c74"
      },
      "outputs": [
        {
          "data": {
            "text/plain": [
              "array([ 9.6,  1.8, -3.5, 99.5])"
            ]
          },
          "execution_count": 7,
          "metadata": {},
          "output_type": "execute_result"
        }
      ],
      "source": [
        "# subtract $0.5 from each transaction\n",
        "checking_acct_array - 0.5"
      ]
    },
    {
      "cell_type": "code",
      "execution_count": 8,
      "metadata": {
        "colab": {
          "base_uri": "https://localhost:8080/"
        },
        "id": "UaMikHWpfGJg",
        "outputId": "ec44688d-c601-42da-aa28-a7c7a0cc1182"
      },
      "outputs": [
        {
          "data": {
            "text/plain": [
              "array([ 20.2,   4.6,  -6. , 200. ])"
            ]
          },
          "execution_count": 8,
          "metadata": {},
          "output_type": "execute_result"
        }
      ],
      "source": [
        "# double it up\n",
        "checking_acct_array * 2"
      ]
    },
    {
      "cell_type": "code",
      "execution_count": 9,
      "metadata": {
        "colab": {
          "base_uri": "https://localhost:8080/"
        },
        "id": "Viiu3ePUfGJi",
        "outputId": "d5fcc1cb-5287-431d-cdd2-adf417019f65"
      },
      "outputs": [
        {
          "data": {
            "text/plain": [
              "array([ 3.36666667,  0.76666667, -1.        , 33.33333333])"
            ]
          },
          "execution_count": 9,
          "metadata": {},
          "output_type": "execute_result"
        }
      ],
      "source": [
        "# divide the amounts by 3\n",
        "checking_acct_array / 3\n",
        "# Repeating decimals because floating point"
      ]
    },
    {
      "cell_type": "markdown",
      "metadata": {
        "id": "oGZMC38NfGJl"
      },
      "source": [
        "Note: You can't do the above operation with list. You will have to iterate the list's elements. For example:"
      ]
    },
    {
      "cell_type": "code",
      "execution_count": 10,
      "metadata": {
        "colab": {
          "base_uri": "https://localhost:8080/"
        },
        "id": "u6EM8P58fGJl",
        "outputId": "f70fab12-de9f-4c78-86d6-9ba00cd308a6"
      },
      "outputs": [
        {
          "data": {
            "text/plain": [
              "[12.1, 4.3, -1, 102]"
            ]
          },
          "execution_count": 10,
          "metadata": {},
          "output_type": "execute_result"
        }
      ],
      "source": [
        "# to add $2 to each transaction with checking_acct, we must use list comprehension.\n",
        "[x + 2 for x in checking_acct]"
      ]
    },
    {
      "cell_type": "code",
      "execution_count": 11,
      "metadata": {
        "colab": {
          "base_uri": "https://localhost:8080/"
        },
        "id": "eYGHGQRhfGJo",
        "outputId": "ce1e54dd-8d41-44f3-a1a0-0ce30273b1dc"
      },
      "outputs": [
        {
          "data": {
            "text/plain": [
              "array([1., 1., 1., 1., 1., 1., 1., 1., 1., 1.])"
            ]
          },
          "execution_count": 11,
          "metadata": {},
          "output_type": "execute_result"
        }
      ],
      "source": [
        "# create a one-dimensional array containing 10 ones\n",
        "np.ones(10)"
      ]
    },
    {
      "cell_type": "code",
      "execution_count": 12,
      "metadata": {
        "colab": {
          "base_uri": "https://localhost:8080/"
        },
        "id": "zU9DzeFtfGJr",
        "outputId": "976f3184-318e-4f54-83a6-f77b9eaed025"
      },
      "outputs": [
        {
          "data": {
            "text/plain": [
              "array([[1., 0., 0., 0.],\n",
              "       [0., 1., 0., 0.],\n",
              "       [0., 0., 1., 0.],\n",
              "       [0., 0., 0., 1.]])"
            ]
          },
          "execution_count": 12,
          "metadata": {},
          "output_type": "execute_result"
        }
      ],
      "source": [
        "# create an identity matrix\n",
        "np.identity(4)\n",
        "#Moves a value of 1 to each new \"column\""
      ]
    },
    {
      "cell_type": "code",
      "execution_count": 13,
      "metadata": {
        "colab": {
          "base_uri": "https://localhost:8080/"
        },
        "id": "bzyiFkjpfGJt",
        "outputId": "110eb96c-bdbc-44ae-f265-5af531a0fb25"
      },
      "outputs": [
        {
          "data": {
            "text/plain": [
              "array([ 2,  4,  6,  8, 10, 12, 14, 16, 18])"
            ]
          },
          "execution_count": 13,
          "metadata": {},
          "output_type": "execute_result"
        }
      ],
      "source": [
        "# create an array size 1 x 9 including only even numbers starting from 2\n",
        "x = np.arange(2,20,2)\n",
        "x\n",
        "# Start at 2 (Inlcusive), end at 20(Noninclusive), make 2 step jumps each way"
      ]
    },
    {
      "cell_type": "code",
      "execution_count": 14,
      "metadata": {
        "colab": {
          "base_uri": "https://localhost:8080/"
        },
        "id": "Fi7yU_v3fGJw",
        "outputId": "e7e28445-9e09-42b1-f309-6fd844d05fca"
      },
      "outputs": [
        {
          "name": "stdout",
          "output_type": "stream",
          "text": [
            "[[ 2  4  6]\n",
            " [ 8 10 12]\n",
            " [14 16 18]]\n"
          ]
        }
      ],
      "source": [
        "# reshape x to size 3 x 3 we get the following matrix\n",
        "\n",
        "# Variables in Python (an numpy) are objects.\n",
        "# Each object contains data (like x does), but it is also associated\n",
        "# with methods, i.e. python functions that can apply to it.\n",
        "# When we apply such an operation, we use the notation x.fname, like\n",
        "# below.\n",
        "\n",
        "x = x.reshape(3,3)\n",
        "print(x)\n",
        "\n",
        "#You can reshape elements in a numpy array to any number of dimensions as long as all dimensions multiplies together = num of elemnts in original array"
      ]
    },
    {
      "cell_type": "code",
      "execution_count": 15,
      "metadata": {
        "id": "lhwnA49lfGJy"
      },
      "outputs": [
        {
          "name": "stdout",
          "output_type": "stream",
          "text": [
            "[[ 2  8 14]\n",
            " [ 4 10 16]\n",
            " [ 6 12 18]]\n"
          ]
        }
      ],
      "source": [
        "# transpose x\n",
        "y = x.T\n",
        "print(y)\n",
        "# Switches columns for rows and rows for columns"
      ]
    },
    {
      "cell_type": "code",
      "execution_count": 16,
      "metadata": {
        "colab": {
          "base_uri": "https://localhost:8080/"
        },
        "id": "-34yj_jDfGJ0",
        "outputId": "9302ff0c-eda8-4efb-997a-82646b7333e6"
      },
      "outputs": [
        {
          "data": {
            "text/plain": [
              "array([[ True, False, False],\n",
              "       [False,  True, False],\n",
              "       [False, False,  True]])"
            ]
          },
          "execution_count": 16,
          "metadata": {},
          "output_type": "execute_result"
        }
      ],
      "source": [
        "# compare two arrays\n",
        "x == y"
      ]
    },
    {
      "cell_type": "code",
      "execution_count": 17,
      "metadata": {
        "colab": {
          "base_uri": "https://localhost:8080/"
        },
        "id": "Akbw9C1PfGJ2",
        "outputId": "c4cedaad-db4b-4382-b21b-37f63546d241"
      },
      "outputs": [
        {
          "data": {
            "text/plain": [
              "array([[ True,  True,  True],\n",
              "       [ True,  True,  True],\n",
              "       [ True,  True,  True]])"
            ]
          },
          "execution_count": 17,
          "metadata": {},
          "output_type": "execute_result"
        }
      ],
      "source": [
        "x == y.T"
      ]
    },
    {
      "cell_type": "code",
      "execution_count": 18,
      "metadata": {
        "colab": {
          "base_uri": "https://localhost:8080/"
        },
        "id": "PjbS0Y8zfGJ5",
        "outputId": "3172c027-4525-499f-a921-9879e4f7f1c8"
      },
      "outputs": [
        {
          "data": {
            "text/plain": [
              "True"
            ]
          },
          "execution_count": 18,
          "metadata": {},
          "output_type": "execute_result"
        }
      ],
      "source": [
        "np.array_equal(x,y.T)"
      ]
    },
    {
      "cell_type": "code",
      "execution_count": 19,
      "metadata": {
        "colab": {
          "base_uri": "https://localhost:8080/"
        },
        "id": "vC29JsRAfGJ7",
        "outputId": "ab056b9f-96de-45f0-dedd-2d0e398cfd9f"
      },
      "outputs": [
        {
          "data": {
            "text/plain": [
              "array([[False,  True,  True],\n",
              "       [False, False,  True],\n",
              "       [False, False, False]])"
            ]
          },
          "execution_count": 19,
          "metadata": {},
          "output_type": "execute_result"
        }
      ],
      "source": [
        "x < y"
      ]
    },
    {
      "cell_type": "code",
      "execution_count": 20,
      "metadata": {
        "colab": {
          "base_uri": "https://localhost:8080/"
        },
        "id": "9CumfUaRfGJ9",
        "outputId": "762d2078-29fb-4c1e-a253-fd605d976cf8"
      },
      "outputs": [
        {
          "data": {
            "text/plain": [
              "array([[1., 1., 1.],\n",
              "       [1., 1., 1.],\n",
              "       [1., 1., 1.]])"
            ]
          },
          "execution_count": 20,
          "metadata": {},
          "output_type": "execute_result"
        }
      ],
      "source": [
        "c = np.ones((3,3))\n",
        "c"
      ]
    },
    {
      "cell_type": "code",
      "execution_count": 21,
      "metadata": {
        "colab": {
          "base_uri": "https://localhost:8080/"
        },
        "id": "8sXMycSpfGJ_",
        "outputId": "d437bff0-c641-4a48-b5f2-b7b6baba28dc"
      },
      "outputs": [
        {
          "data": {
            "text/plain": [
              "array([[3., 3., 3.],\n",
              "       [3., 3., 3.],\n",
              "       [3., 3., 3.]])"
            ]
          },
          "execution_count": 21,
          "metadata": {},
          "output_type": "execute_result"
        }
      ],
      "source": [
        "# matrix squaring\n",
        "np.dot(c,c)\n",
        "# Returns dot product of the two arrays\n",
        "\n",
        "# or\n",
        "np.matmul(c,c)\n",
        "# Performs matrix multiplication on the two given matrixes"
      ]
    },
    {
      "cell_type": "code",
      "execution_count": 22,
      "metadata": {
        "colab": {
          "base_uri": "https://localhost:8080/"
        },
        "id": "phRTWOZwfGKB",
        "outputId": "f9d18e17-be0c-4571-9a01-d5350e1301b9"
      },
      "outputs": [
        {
          "data": {
            "text/plain": [
              "array([[ 0,  1,  2,  3,  4],\n",
              "       [ 5,  6,  7,  8,  9],\n",
              "       [ 0,  1,  2,  3,  4],\n",
              "       [ 5,  6,  7,  8,  9],\n",
              "       [10, 11, 12, 13, 14]])"
            ]
          },
          "execution_count": 22,
          "metadata": {},
          "output_type": "execute_result"
        }
      ],
      "source": [
        "# stacking/merging two multidimensional arrays\n",
        "x = np.arange(10).reshape(2,5)\n",
        "y = np.arange(15).reshape(3,5)\n",
        "xy = np.vstack((x,y))\n",
        "xy\n",
        "# Arranging 1 number in to arrays of even length arrays made cleanly by evenly dividing rows and columns\n",
        "# Does not precisely work with non-integer values\n",
        "# Stacking combines the two matrixes/arrays"
      ]
    },
    {
      "cell_type": "code",
      "execution_count": 23,
      "metadata": {
        "colab": {
          "base_uri": "https://localhost:8080/"
        },
        "id": "pwX_qhk4fGKD",
        "outputId": "d4ce0f77-3792-4b00-c394-a467c5f08fc1"
      },
      "outputs": [
        {
          "name": "stdout",
          "output_type": "stream",
          "text": [
            "[[ 0  1  0  1  2]\n",
            " [ 2  3  3  4  5]\n",
            " [ 4  5  6  7  8]\n",
            " [ 6  7  9 10 11]\n",
            " [ 8  9 12 13 14]]\n"
          ]
        }
      ],
      "source": [
        "x = np.arange(10).reshape(5,2)\n",
        "y = np.arange(15).reshape(5,3)\n",
        "xy = np.hstack((x,y))\n",
        "print(xy)"
      ]
    },
    {
      "cell_type": "code",
      "execution_count": 24,
      "metadata": {
        "colab": {
          "base_uri": "https://localhost:8080/"
        },
        "id": "YCiyIn78fGKF",
        "outputId": "70f7bf64-5524-458a-b951-5d810ce5729b"
      },
      "outputs": [
        {
          "data": {
            "text/plain": [
              "DescribeResult(nobs=np.int64(5), minmax=(array([0, 1, 0, 1, 2]), array([ 8,  9, 12, 13, 14])), mean=array([4., 5., 6., 7., 8.]), variance=array([10. , 10. , 22.5, 22.5, 22.5]), skewness=array([0., 0., 0., 0., 0.]), kurtosis=array([-1.3, -1.3, -1.3, -1.3, -1.3]))"
            ]
          },
          "execution_count": 24,
          "metadata": {},
          "output_type": "execute_result"
        }
      ],
      "source": [
        "# checking statistics for xy\n",
        "from scipy import stats\n",
        "stats.describe(xy)"
      ]
    },
    {
      "cell_type": "code",
      "execution_count": 25,
      "metadata": {
        "colab": {
          "base_uri": "https://localhost:8080/"
        },
        "id": "jhXIOt8dfGKH",
        "outputId": "9a1feba6-2021-4c11-f6ea-1bdccd948a9f"
      },
      "outputs": [
        {
          "name": "stdout",
          "output_type": "stream",
          "text": [
            "x:\n",
            " [[0.90302545 0.00967197 0.60037771]\n",
            " [0.72931086 0.94804299 0.34372381]\n",
            " [0.21351828 0.61715132 0.61084315]\n",
            " [0.4238024  0.9772885  0.74277571]\n",
            " [0.05899151 0.58951604 0.61761857]\n",
            " [0.08889604 0.78763438 0.97051728]\n",
            " [0.64179157 0.90799605 0.69948868]\n",
            " [0.23932591 0.65619578 0.71805929]\n",
            " [0.1530468  0.39768146 0.05970676]\n",
            " [0.84064015 0.05318791 0.6796837 ]\n",
            " [0.097716   0.79703791 0.51436619]\n",
            " [0.16652776 0.25594234 0.31752593]\n",
            " [0.82197157 0.23328061 0.29318543]\n",
            " [0.90277663 0.32329549 0.82477918]\n",
            " [0.70342769 0.93964906 0.13125078]\n",
            " [0.8771013  0.0254208  0.32796743]\n",
            " [0.45454803 0.76085268 0.08742155]\n",
            " [0.5877895  0.26097479 0.94253156]\n",
            " [0.81666782 0.99941276 0.97024586]\n",
            " [0.19071666 0.39452343 0.84502799]]\n",
            "\n",
            ",n:\n",
            " 20\n",
            "\n",
            ", min_max:\n",
            " (array([0.05899151, 0.00967197, 0.05970676]), array([0.90302545, 0.99941276, 0.97051728]))\n",
            "\n",
            ", mean:\n",
            " [0.4955796  0.54673781 0.56485483]\n",
            "\n",
            "\n",
            ", var:\n",
            " [0.10098367 0.11500583 0.08546687]\n",
            "\n",
            ", skew:\n",
            " [-0.05386018 -0.17626878 -0.2990832 ]\n",
            "\n",
            ", kurt:\n",
            " [-1.63465221 -1.34079639 -1.07060373]\n",
            "\n",
            "\n"
          ]
        }
      ],
      "source": [
        "# generate 20 random records, each has 3 features represented by some random number\n",
        "x = np.random.rand(20,3)\n",
        "\n",
        "# check statistics by feature for these records\n",
        "n, min_max, mean, var, skew, kurt = stats.describe(x)\n",
        "\n",
        "# observe the gather statistics\n",
        "print('''x:\\n {}\\n\\n,n:\\n {}\\n\\n, min_max:\\n {}\\n\\n, mean:\\n {}\\n\\n\n",
        ", var:\\n {}\\n\\n, skew:\\n {}\\n\\n, kurt:\\n {}\\n\\n'''.format(x, n, min_max, mean, var, skew, kurt))"
      ]
    },
    {
      "cell_type": "markdown",
      "metadata": {
        "id": "6icgEByffGKK"
      },
      "source": [
        "#### Slice and dice matrix\n",
        "\n",
        "Take out 2 elements in the 1st row, 2nd column, and 3rd row, 3rd column of matrix A from above:\n",
        "\n",
        "$\\begin{equation*}\n",
        "A =\n",
        "\\begin{pmatrix}\n",
        "1 & 2 & 3 \\\\\n",
        "4 & 5 & 6 \\\\\n",
        "7 & 8 & 9\n",
        "\\end{pmatrix}\n",
        "\\end{equation*}\n",
        "$"
      ]
    },
    {
      "cell_type": "code",
      "execution_count": 26,
      "metadata": {
        "colab": {
          "base_uri": "https://localhost:8080/"
        },
        "id": "7R8ypS2zfGKN",
        "outputId": "9885c1b2-d122-404f-a1cd-63bb2bfa4604"
      },
      "outputs": [
        {
          "data": {
            "text/plain": [
              "array([2., 9.])"
            ]
          },
          "execution_count": 26,
          "metadata": {},
          "output_type": "execute_result"
        }
      ],
      "source": [
        "# numpy is indexed from 0. Slice by row and then by column\n",
        "A[[0,2],[1,2]]"
      ]
    },
    {
      "cell_type": "markdown",
      "metadata": {
        "id": "BfRzbPUXfGKQ"
      },
      "source": [
        "#### Resize and reshape matrix\n",
        "The matrix will be truncated or element values will be repeated if the reshape causes the matrix to change size."
      ]
    },
    {
      "cell_type": "code",
      "execution_count": 27,
      "metadata": {
        "colab": {
          "base_uri": "https://localhost:8080/"
        },
        "id": "_YNyARm1fGKQ",
        "outputId": "1c38f54e-a2af-4fbd-be6e-7db984afd0e4"
      },
      "outputs": [
        {
          "name": "stdout",
          "output_type": "stream",
          "text": [
            "[[1 2 3]\n",
            " [4 5 6]\n",
            " [7 8 9]]\n",
            "\n",
            "resize smaller\n",
            " [[1 2]\n",
            " [3 4]]\n",
            "\n",
            "resize bigger\n",
            " [[1 2 3 4]\n",
            " [5 6 7 8]\n",
            " [9 1 2 3]\n",
            " [4 5 6 7]]\n"
          ]
        }
      ],
      "source": [
        "x = (np.arange(9)+1).reshape(3,3)\n",
        "print(x)\n",
        "print('\\nresize smaller\\n {}'.format(np.resize(x,(2,2))))\n",
        "print('\\nresize bigger\\n {}'.format(np.resize(x,(4,4))))\n",
        "# Define behaviour that truncates and repeats the same order of elements every time"
      ]
    },
    {
      "cell_type": "markdown",
      "metadata": {
        "id": "bdtCXeGxfGKS"
      },
      "source": [
        "#### Multiplying two matrices\n",
        "An 1-dimensional array is treated as a vector."
      ]
    },
    {
      "cell_type": "code",
      "execution_count": 28,
      "metadata": {
        "colab": {
          "base_uri": "https://localhost:8080/"
        },
        "id": "YOFS8ioofGKT",
        "outputId": "71b34155-643a-4765-b079-2c318055c3e0"
      },
      "outputs": [
        {
          "data": {
            "text/plain": [
              "array([0, 1, 2, 3])"
            ]
          },
          "execution_count": 28,
          "metadata": {},
          "output_type": "execute_result"
        }
      ],
      "source": [
        "# a vector/array y\n",
        "y = np.arange(4)\n",
        "y"
      ]
    },
    {
      "cell_type": "code",
      "execution_count": 29,
      "metadata": {
        "colab": {
          "base_uri": "https://localhost:8080/"
        },
        "id": "mEWuYjlxfGKV",
        "outputId": "3be6eb54-6d26-4c57-972c-c382d8aef97a"
      },
      "outputs": [
        {
          "data": {
            "text/plain": [
              "array([[1., 1., 1., 1.],\n",
              "       [1., 1., 1., 1.],\n",
              "       [1., 1., 1., 1.],\n",
              "       [1., 1., 1., 1.]])"
            ]
          },
          "execution_count": 29,
          "metadata": {},
          "output_type": "execute_result"
        }
      ],
      "source": [
        "# a matrix of ones\n",
        "x = np.ones(16).reshape(4,4)\n",
        "x"
      ]
    },
    {
      "cell_type": "code",
      "execution_count": 30,
      "metadata": {
        "colab": {
          "base_uri": "https://localhost:8080/"
        },
        "id": "d0707PxPfGKX",
        "outputId": "815193eb-1af3-4cf2-94f0-c85ec91c91e5"
      },
      "outputs": [
        {
          "data": {
            "text/plain": [
              "array([[0., 1., 2., 3.],\n",
              "       [0., 1., 2., 3.],\n",
              "       [0., 1., 2., 3.],\n",
              "       [0., 1., 2., 3.]])"
            ]
          },
          "execution_count": 30,
          "metadata": {},
          "output_type": "execute_result"
        }
      ],
      "source": [
        "x*y"
      ]
    },
    {
      "cell_type": "code",
      "execution_count": 31,
      "metadata": {
        "colab": {
          "base_uri": "https://localhost:8080/"
        },
        "id": "EJPYn6rEfGKZ",
        "outputId": "6d50ac8f-e2e7-494c-a52e-3776e9cbe944"
      },
      "outputs": [
        {
          "data": {
            "text/plain": [
              "array([[0., 1., 2., 3.],\n",
              "       [0., 1., 2., 3.],\n",
              "       [0., 1., 2., 3.],\n",
              "       [0., 1., 2., 3.]])"
            ]
          },
          "execution_count": 31,
          "metadata": {},
          "output_type": "execute_result"
        }
      ],
      "source": [
        "x*y.T   # interpreted as x*(y.T)"
      ]
    },
    {
      "cell_type": "code",
      "execution_count": 32,
      "metadata": {
        "colab": {
          "base_uri": "https://localhost:8080/"
        },
        "id": "Tsl6MbI2fGKc",
        "outputId": "18a9c1af-a971-44ec-f508-8b1781d93a50"
      },
      "outputs": [
        {
          "data": {
            "text/plain": [
              "array([[0., 1., 2., 3.],\n",
              "       [0., 1., 2., 3.],\n",
              "       [0., 1., 2., 3.],\n",
              "       [0., 1., 2., 3.]])"
            ]
          },
          "execution_count": 32,
          "metadata": {},
          "output_type": "execute_result"
        }
      ],
      "source": [
        "y*x"
      ]
    },
    {
      "cell_type": "code",
      "execution_count": 33,
      "metadata": {
        "colab": {
          "base_uri": "https://localhost:8080/"
        },
        "id": "fNTRR8DwfGKe",
        "outputId": "44a8f4ab-5a9a-48b9-fd5e-fe9e3654f7a1"
      },
      "outputs": [
        {
          "data": {
            "text/plain": [
              "array([[0., 1., 2., 3.],\n",
              "       [0., 1., 2., 3.],\n",
              "       [0., 1., 2., 3.],\n",
              "       [0., 1., 2., 3.]])"
            ]
          },
          "execution_count": 33,
          "metadata": {},
          "output_type": "execute_result"
        }
      ],
      "source": [
        "y.T*x"
      ]
    },
    {
      "cell_type": "code",
      "execution_count": 34,
      "metadata": {
        "colab": {
          "base_uri": "https://localhost:8080/"
        },
        "id": "vi5kt5OufGKg",
        "outputId": "33379197-bfcb-4929-93c1-442405939259"
      },
      "outputs": [
        {
          "name": "stdout",
          "output_type": "stream",
          "text": [
            "x:\n",
            "[[0 1]\n",
            " [2 3]]\n",
            "\n",
            "y1:\n",
            "[0 1]\n",
            "\n",
            "y2:\n",
            "[[0 1]]\n",
            "\n"
          ]
        }
      ],
      "source": [
        "x = np.arange(4).reshape(2,2)\n",
        "y1 = np.arange(2)\n",
        "y2 = np.arange(2).reshape(1,2) # in numpy this is the same as y1\n",
        "print('x:\\n{}\\n'.format(x))\n",
        "print('y1:\\n{}\\n'.format(y1))\n",
        "print('y2:\\n{}\\n'.format(y2))"
      ]
    },
    {
      "cell_type": "code",
      "execution_count": 35,
      "metadata": {
        "colab": {
          "base_uri": "https://localhost:8080/"
        },
        "id": "-1k0CFOIfGKi",
        "outputId": "89dbdc58-610f-434a-96f7-a968297720fc"
      },
      "outputs": [
        {
          "data": {
            "text/plain": [
              "array([[0, 1],\n",
              "       [0, 3]])"
            ]
          },
          "execution_count": 35,
          "metadata": {},
          "output_type": "execute_result"
        }
      ],
      "source": [
        "x*y1"
      ]
    },
    {
      "cell_type": "code",
      "execution_count": 36,
      "metadata": {
        "colab": {
          "base_uri": "https://localhost:8080/"
        },
        "id": "EW90NQ6nfGKk",
        "outputId": "22eba665-a13c-43e0-93ee-6e096e93e311"
      },
      "outputs": [
        {
          "data": {
            "text/plain": [
              "array([[0, 1],\n",
              "       [0, 3]])"
            ]
          },
          "execution_count": 36,
          "metadata": {},
          "output_type": "execute_result"
        }
      ],
      "source": [
        "x*y2"
      ]
    },
    {
      "cell_type": "code",
      "execution_count": 37,
      "metadata": {
        "colab": {
          "base_uri": "https://localhost:8080/"
        },
        "id": "ban5G53YfGKm",
        "outputId": "2a1b2931-2d86-435c-bc27-3eaceab9cb7b"
      },
      "outputs": [
        {
          "name": "stdout",
          "output_type": "stream",
          "text": [
            "[[0 1 2 3 4]\n",
            " [5 6 7 8 9]]\n",
            "\n",
            "[[ 0  1  2]\n",
            " [ 3  4  5]\n",
            " [ 6  7  8]\n",
            " [ 9 10 11]\n",
            " [12 13 14]]\n"
          ]
        }
      ],
      "source": [
        "# generate two matrices\n",
        "a = np.arange(10).reshape(2,5)\n",
        "b = np.arange(15).reshape(5,3)\n",
        "print(a)\n",
        "print()\n",
        "print(b)"
      ]
    },
    {
      "cell_type": "code",
      "execution_count": 38,
      "metadata": {
        "colab": {
          "base_uri": "https://localhost:8080/"
        },
        "id": "iXVjcn_ffGKp",
        "outputId": "34399efe-597a-44d1-b0f0-97d326eb2c17"
      },
      "outputs": [
        {
          "data": {
            "text/plain": [
              "True"
            ]
          },
          "execution_count": 38,
          "metadata": {},
          "output_type": "execute_result"
        }
      ],
      "source": [
        "# check if operation dot is equal to operation matmul\n",
        "np.array_equal(np.dot(a,b),np.matmul(a,b))"
      ]
    },
    {
      "cell_type": "code",
      "execution_count": 39,
      "metadata": {
        "colab": {
          "base_uri": "https://localhost:8080/"
        },
        "id": "M31vWN03fGKs",
        "outputId": "7a7dac54-9239-47de-9835-1266309ab200"
      },
      "outputs": [
        {
          "data": {
            "text/plain": [
              "array([[ 90, 100, 110],\n",
              "       [240, 275, 310]])"
            ]
          },
          "execution_count": 39,
          "metadata": {},
          "output_type": "execute_result"
        }
      ],
      "source": [
        "# multiply a by b\n",
        "np.matmul(a,b)"
      ]
    },
    {
      "cell_type": "code",
      "execution_count": 40,
      "metadata": {
        "colab": {
          "base_uri": "https://localhost:8080/"
        },
        "id": "4jhyA0VYfGKv",
        "outputId": "85f0a73f-8d07-49d5-bac1-b0abdd78b925"
      },
      "outputs": [
        {
          "data": {
            "text/plain": [
              "array([[ 90, 100, 110],\n",
              "       [240, 275, 310]])"
            ]
          },
          "execution_count": 40,
          "metadata": {},
          "output_type": "execute_result"
        }
      ],
      "source": [
        "# another way to multiply a by b\n",
        "a@b"
      ]
    },
    {
      "cell_type": "code",
      "execution_count": 41,
      "metadata": {
        "colab": {
          "base_uri": "https://localhost:8080/"
        },
        "id": "HbJu-_fLfGK0",
        "outputId": "2f44ae48-0e38-4299-e7c5-f332c5ffec8c"
      },
      "outputs": [
        {
          "name": "stdout",
          "output_type": "stream",
          "text": [
            "[[0 1 2]\n",
            " [3 4 5]\n",
            " [6 7 8]]\n",
            "\n",
            "[0 1 2]\n"
          ]
        }
      ],
      "source": [
        "a = np.arange(9).reshape(3,3)\n",
        "b = np.arange(3)\n",
        "print('{}\\n\\n{}'.format(a,b))"
      ]
    },
    {
      "cell_type": "code",
      "execution_count": 42,
      "metadata": {
        "colab": {
          "base_uri": "https://localhost:8080/"
        },
        "id": "2Cxjq5WFfGK4",
        "outputId": "e7453711-127c-4262-9e50-b8dba9d66293"
      },
      "outputs": [
        {
          "data": {
            "text/plain": [
              "array([ 5, 14, 23])"
            ]
          },
          "execution_count": 42,
          "metadata": {},
          "output_type": "execute_result"
        }
      ],
      "source": [
        "# inner product of 2 vectors\n",
        "np.inner(a,b)"
      ]
    },
    {
      "cell_type": "code",
      "execution_count": 43,
      "metadata": {
        "colab": {
          "base_uri": "https://localhost:8080/"
        },
        "id": "AuSfLhm2fGK8",
        "outputId": "45fe7440-4b22-47d1-ca81-062367ccbf19"
      },
      "outputs": [
        {
          "data": {
            "text/plain": [
              "array([[ 0,  0,  0],\n",
              "       [ 0,  1,  2],\n",
              "       [ 0,  2,  4],\n",
              "       [ 0,  3,  6],\n",
              "       [ 0,  4,  8],\n",
              "       [ 0,  5, 10],\n",
              "       [ 0,  6, 12],\n",
              "       [ 0,  7, 14],\n",
              "       [ 0,  8, 16]])"
            ]
          },
          "execution_count": 43,
          "metadata": {},
          "output_type": "execute_result"
        }
      ],
      "source": [
        "# outer product of 2 vectors\n",
        "np.outer(a,b)"
      ]
    },
    {
      "cell_type": "markdown",
      "metadata": {
        "id": "bQda4F4EfGK_"
      },
      "source": [
        "#### Solving linear equations\n",
        "An example: Solve three linear equations with 3 unknowns as follows:<br>\n",
        "$x_1 + 2x_2 + 3x_3 = 10$<br>\n",
        "$4x_1 + 4x_2 + 5x_3=4$<br>\n",
        "$3x_1 + 8x_2 + 9x_3 = 3$<br>\n",
        "\n",
        "We have a linear equation to solve as in the form $Ax = B$, where\n",
        "\\begin{equation*}\n",
        "A =\n",
        "\\begin{pmatrix}\n",
        "1 & 2 & 3 \\\\\n",
        "4 & 4 & 5 \\\\\n",
        "3 & 8 & 9\n",
        "\\end{pmatrix}\n",
        ",\n",
        "B =\n",
        "\\begin{pmatrix}\n",
        "10 \\\\\n",
        "4 \\\\\n",
        "3\n",
        "\\end{pmatrix}\n",
        ",\n",
        "x =\n",
        "\\begin{pmatrix}\n",
        "x_1 \\\\\n",
        "x_2 \\\\\n",
        "x_3\n",
        "\\end{pmatrix}\n",
        "\\end{equation*}\n",
        "\n",
        "<br>\n",
        "In simple cases with small matrices, we can do $x = A^{-1}B$."
      ]
    },
    {
      "cell_type": "code",
      "execution_count": 44,
      "metadata": {
        "colab": {
          "base_uri": "https://localhost:8080/"
        },
        "id": "PLS1GVLMfGLA",
        "outputId": "b6025cbe-ef51-47bc-fb62-59a05a99ac2d"
      },
      "outputs": [
        {
          "data": {
            "text/plain": [
              "array([[-2.85714286e-01,  4.28571429e-01, -1.42857143e-01],\n",
              "       [-1.50000000e+00, -6.66133815e-17,  5.00000000e-01],\n",
              "       [ 1.42857143e+00, -1.42857143e-01, -2.85714286e-01]])"
            ]
          },
          "execution_count": 44,
          "metadata": {},
          "output_type": "execute_result"
        }
      ],
      "source": [
        "A = np.array([[1,2,3],[4,4,5],[3,8,9]])\n",
        "B = np.array([10,4,3])\n",
        "A_inv = np.linalg.inv(A)\n",
        "A_inv"
      ]
    },
    {
      "cell_type": "code",
      "execution_count": 45,
      "metadata": {
        "id": "2_Rev7MEfGLC"
      },
      "outputs": [],
      "source": [
        "x = np.dot(A_inv, B)"
      ]
    },
    {
      "cell_type": "code",
      "execution_count": 46,
      "metadata": {
        "colab": {
          "base_uri": "https://localhost:8080/"
        },
        "id": "e-oPmxrSfGLF",
        "outputId": "9a1ec34e-5750-4ff7-aad9-825f3a2f2ec7"
      },
      "outputs": [
        {
          "data": {
            "text/plain": [
              "True"
            ]
          },
          "execution_count": 46,
          "metadata": {},
          "output_type": "execute_result"
        }
      ],
      "source": [
        "# check results with allclose() function)\n",
        "np.allclose(np.dot(A,x),B)"
      ]
    },
    {
      "cell_type": "markdown",
      "metadata": {
        "id": "Vbt-t8rpEP7R"
      },
      "source": [
        "-----"
      ]
    },
    {
      "cell_type": "markdown",
      "metadata": {
        "id": "77y-VVzxfGLH"
      },
      "source": [
        "\n",
        "## <font color='#008DFF'> **Question 1**\n",
        "\n",
        "Write code for solving four linear equations with 4 unknowns as follows:<br>\n",
        "$x_1 + 2x_2 + 5x_4 = 10$<br>\n",
        "$4x_1 + 4x_2 + 5x_3 + 3x_4=4$<br>\n",
        "$3x_1 + 8x_2 + 9x_3 + x_4= 3$<br>\n",
        "$x_1 + x_2 + 3x_3 = 7$<br><br>\n",
        "\n",
        "Afterwards, check results with allclose( ) function, and print out x.\n",
        "\n",
        "<b>Expected result</b><br>x = array([-4.90243902, -4.56097561, 5.48780488,  4.80487805])\n"
      ]
    },
    {
      "cell_type": "code",
      "execution_count": null,
      "metadata": {
        "id": "A0wIhEbW04b7"
      },
      "outputs": [
        {
          "name": "stdout",
          "output_type": "stream",
          "text": [
            "[-4.90243902 -4.56097561  5.48780488  4.80487805]\n"
          ]
        }
      ],
      "source": [
        "# your code here\n",
        "A = np.array([[1,2,0,5],[4,4,5,3],[3,8,9,1],[1,1,3,0]])\n",
        "B = np.array([10,4,3,7])\n",
        "\n",
        "AInv = np.linalg.inv(A)\n",
        "\n",
        "x = np.dot(AInv, B)\n",
        "\n",
        "np.allclose(np.dot(A,x),B)\n",
        "print(x)\n",
        "\n",
        "\n",
        "\n"
      ]
    },
    {
      "cell_type": "code",
      "execution_count": 48,
      "metadata": {
        "id": "77c5jSREdt9K"
      },
      "outputs": [],
      "source": [
        "# Grader's area\n",
        "#\n",
        "# Here we have only part, so this grade is assigned in M[1,1]\n",
        "# assign the grade and then uncomment the following\n",
        "\n",
        "# M[1,1] =\n",
        "\n",
        "maxScore = maxScore +4;"
      ]
    },
    {
      "cell_type": "markdown",
      "metadata": {
        "id": "DKD1e5IvkXJz"
      },
      "source": [
        "-----------------\n",
        "-----------------\n",
        "-----------------\n",
        "-----------------"
      ]
    },
    {
      "cell_type": "markdown",
      "metadata": {
        "id": "hH8NLj_UfGLK"
      },
      "source": [
        "## **Part 2: Exploring some data**"
      ]
    },
    {
      "cell_type": "markdown",
      "metadata": {
        "id": "Wq8IS0kDeOLz"
      },
      "source": [
        "In this exercise we will be using the 'Boston Housing' dataset. This is an infamous dataset, due to one of its data attributes being the percentage of Black inhabitants of a given town. This dataset has now been removed from official distributions of certain tools (including scikit-learn), but it is still around to remind us how human learned bias can enter Machine Learning pipelines and have unintended (or in some cases, horribly intended) consequences."
      ]
    },
    {
      "cell_type": "code",
      "execution_count": 5,
      "metadata": {
        "id": "yJ9yDB9ufGLL"
      },
      "outputs": [
        {
          "name": "stderr",
          "output_type": "stream",
          "text": [
            "<>:17: SyntaxWarning: invalid escape sequence '\\s'\n",
            "<>:17: SyntaxWarning: invalid escape sequence '\\s'\n",
            "/tmp/ipykernel_3315/4018161074.py:17: SyntaxWarning: invalid escape sequence '\\s'\n",
            "  ds = pd.read_csv(data_url, sep=\"\\s+\", skiprows=22, header=None)\n"
          ]
        }
      ],
      "source": [
        "# The Boston Housing dataset is no longer available in scikit-learn as of version 1.2.\n",
        "# Reading directly using the source URL, with the description omitted.\n",
        "# For more information, view the original source file.\n",
        "\n",
        "# Deprecated scikit-learn 1.1 version:\n",
        "#\n",
        "# from sklearn.datasets import load_boston\n",
        "# ds = load_boston()\n",
        "# samples, label, feature_names = ds.data, ds.target, ds.feature_names\n",
        "# print(samples.shape)\n",
        "# print(feature_names)\n",
        "\n",
        "import pandas as pd\n",
        "import numpy as np\n",
        "\n",
        "data_url = \"http://lib.stat.cmu.edu/datasets/boston\"\n",
        "ds = pd.read_csv(data_url, sep=\"\\s+\", skiprows=22, header=None)\n",
        "samples = np.hstack([ds.values[::2, :], ds.values[1::2, :2]])\n",
        "label = ds.values[1::2, 2]"
      ]
    },
    {
      "cell_type": "code",
      "execution_count": 7,
      "metadata": {
        "colab": {
          "base_uri": "https://localhost:8080/"
        },
        "id": "635Xsy-CfGLO",
        "outputId": "02c67ce0-76ff-4f1b-d2b7-d8b2b84a189d"
      },
      "outputs": [
        {
          "name": "stdout",
          "output_type": "stream",
          "text": [
            " The Boston house-price data of Harrison, D. and Rubinfeld, D.L. 'Hedonic\n",
            " prices and the demand for clean air', J. Environ. Economics & Management,\n",
            " vol.5, 81-102, 1978.   Used in Belsley, Kuh & Welsch, 'Regression diagnostics\n",
            " ...', Wiley, 1980.   N.B. Various transformations are used in the table on\n",
            " pages 244-261 of the latter.\n",
            "\n",
            " Variables in order:\n",
            " CRIM     per capita crime rate by town\n",
            " ZN       proportion of residential land zoned for lots over 25,000 sq.ft.\n",
            " INDUS    proportion of non-retail business acres per town\n",
            " CHAS     Charles River dummy variable (= 1 if tract bounds river; 0 otherwise)\n",
            " NOX      nitric oxides concentration (parts per 10 million)\n",
            " RM       average number of rooms per dwelling\n",
            " AGE      proportion of owner-occupied units built prior to 1940\n",
            " DIS      weighted distances to five Boston employment centres\n",
            " RAD      index of accessibility to radial highways\n",
            " TAX      full-value property-tax rate per $10,000\n",
            " PTRATIO  pupil-teacher ratio by town\n",
            " B        1000(Bk - 0.63)^2 where Bk is the proportion of blacks by town\n",
            " LSTAT    % lower status of the population\n",
            " MEDV     Median value of owner-occupied homes in $1000's\n",
            "\n"
          ]
        }
      ],
      "source": [
        "# Data description\n",
        "\n",
        "# Deprecated scikit-learn 1.1 version:\n",
        "#\n",
        "# print(ds.DESCR)\n",
        "\n",
        "import requests\n",
        "\n",
        "lines = requests.get(data_url).text.splitlines()\n",
        "for i, line in enumerate(lines[:22]):\n",
        "    print(line)"
      ]
    },
    {
      "cell_type": "code",
      "execution_count": 8,
      "metadata": {
        "colab": {
          "base_uri": "https://localhost:8080/"
        },
        "id": "rR8jIWSafGLR",
        "outputId": "989611a6-8ea1-481a-e3e2-84b6b32f3977"
      },
      "outputs": [
        {
          "data": {
            "text/plain": [
              "np.False_"
            ]
          },
          "execution_count": 8,
          "metadata": {},
          "output_type": "execute_result"
        }
      ],
      "source": [
        "# check to see if there is any null data\n",
        "np.isnan(np.sum(samples))"
      ]
    },
    {
      "cell_type": "code",
      "execution_count": 9,
      "metadata": {
        "id": "QMjtimPhfGLT"
      },
      "outputs": [],
      "source": [
        "# set print options to make things look nicer\n",
        "np.set_printoptions(suppress=True, linewidth=125)"
      ]
    },
    {
      "cell_type": "code",
      "execution_count": 10,
      "metadata": {
        "colab": {
          "base_uri": "https://localhost:8080/"
        },
        "id": "hwXoQA_rfGLY",
        "outputId": "f2541715-497c-40c9-c7c0-086807935e6f"
      },
      "outputs": [
        {
          "name": "stdout",
          "output_type": "stream",
          "text": [
            "\t\tCRIM\tZN\tINDUS\tCHAS\tNOX\tRM\tAGE\tDIS\tRAD\tTAX\tPTRATIO\tB\tLSTAT\n",
            "  median [\t0.3\t0.0\t9.7\t0.0\t0.5\t6.2\t77.5\t3.2\t5.0\t330.0\t19.0\t391.4\t11.4\t]\n",
            "variance [\t73.8\t542.9\t47.0\t0.1\t0.0\t0.5\t790.8\t4.4\t75.7\t28348.6\t4.7\t8318.3\t50.9\t]\n"
          ]
        }
      ],
      "source": [
        "# find median, variance of the data and output it in a nice format\n",
        "median = np.round(np.median(samples, axis=0), decimals=1)\n",
        "variance = np.round(np.var(samples, axis=0), decimals=1)\n",
        "basic_stats = np.vstack((median, variance))\n",
        "basic_stats_label = ['  median','variance']\n",
        "print('\\t\\tCRIM\\tZN\\tINDUS\\tCHAS\\tNOX\\tRM\\tAGE\\tDIS\\tRAD\\tTAX\\tPTRATIO\\tB\\tLSTAT')\n",
        "for basic_stats_label, row in zip(basic_stats_label, basic_stats):\n",
        "    print('{} [\\t{}]'.format(basic_stats_label,\"\".join('%s\\t'%i for i in row)))"
      ]
    },
    {
      "cell_type": "markdown",
      "metadata": {
        "id": "VS5mKl2lfGLb"
      },
      "source": [
        "## <font color='#008DFF'>  **Question 2**\n",
        "\n",
        "Use function <code>stats.describe</code> to retrieve the max, min, and average of samples, and then display it as in the expected output: <br><br>\n",
        "\n",
        "<b>Expected Output:</b> Something that looks like the following or better: <br>\n",
        "<code>\t CRIM\tZN\tINDUS\tCHAS\tNOX\tRM\tAGE\tDIS\tRAD\tTAX\tPTRATIO\tB\tLSTAT\n",
        " min [\t0.0\t0.0\t0.5\t0.0\t0.4\t3.6\t2.9\t1.1\t1.0\t187.0\t12.6\t0.3\t1.7\t]\n",
        " max [\t89.0\t100.0\t27.7\t1.0\t0.9\t8.8\t100.0\t12.1\t24.0\t711.0\t22.0\t396.9\t38.0\t]\n",
        "mean [\t3.6\t11.4\t11.1\t0.1\t0.6\t6.3\t68.6\t3.8\t9.5\t408.2\t18.5\t356.7\t12.7\t]\n",
        "</code>\n",
        "\n",
        "<b>Answer</b>:"
      ]
    },
    {
      "cell_type": "code",
      "execution_count": 12,
      "metadata": {
        "id": "OkNtSOsIfGLb"
      },
      "outputs": [
        {
          "name": "stdout",
          "output_type": "stream",
          "text": [
            "\t\tCRIM\tZN\tINDUS\tCHAS\tNOX\tRM\tAGE\tDIS\tRAD\tTAX\tPTRATIO\tB\tLSTAT\n",
            " min  [\t0.0\t0.0\t0.5\t0.0\t0.4\t3.6\t2.9\t1.1\t1.0\t187.0\t12.6\t0.3\t1.7\t]\n",
            " max  [\t89.0\t100.0\t27.7\t1.0\t0.9\t8.8\t100.0\t12.1\t24.0\t711.0\t22.0\t396.9\t38.0\t]\n",
            "mean  [\t3.6\t11.4\t11.1\t0.1\t0.6\t6.3\t68.6\t3.8\t9.5\t408.2\t18.5\t356.7\t12.7\t]\n"
          ]
        }
      ],
      "source": [
        "from scipy import stats\n",
        "\n",
        "desc = stats.describe(samples, axis=0)\n",
        "\n",
        "mins = np.round(desc.minmax[0], 1)\n",
        "maxs = np.round(desc.minmax[1], 1)\n",
        "means = np.round(desc.mean, 1)\n",
        "\n",
        "print('\\t\\tCRIM\\tZN\\tINDUS\\tCHAS\\tNOX\\tRM\\tAGE\\tDIS\\tRAD\\tTAX\\tPTRATIO\\tB\\tLSTAT')\n",
        "print(' min  [\\t{}]'.format(\"\".join('%s\\t'%i for i in mins)))\n",
        "print(' max  [\\t{}]'.format(\"\".join('%s\\t'%i for i in maxs)))\n",
        "print('mean  [\\t{}]'.format(\"\".join('%s\\t'%i for i in means)))\n",
        "\n",
        "\n",
        "\n",
        "\n",
        "\n",
        "\n",
        "\n",
        "\n",
        "\n"
      ]
    },
    {
      "cell_type": "code",
      "execution_count": 2,
      "metadata": {
        "id": "zPnHTf9MfT5X"
      },
      "outputs": [
        {
          "ename": "NameError",
          "evalue": "name 'maxScore' is not defined",
          "output_type": "error",
          "traceback": [
            "\u001b[31m---------------------------------------------------------------------------\u001b[39m",
            "\u001b[31mNameError\u001b[39m                                 Traceback (most recent call last)",
            "\u001b[36mCell\u001b[39m\u001b[36m \u001b[39m\u001b[32mIn[2]\u001b[39m\u001b[32m, line 3\u001b[39m\n\u001b[32m      1\u001b[39m \u001b[38;5;66;03m# Grader's area\u001b[39;00m\n\u001b[32m----> \u001b[39m\u001b[32m3\u001b[39m maxScore = \u001b[43mmaxScore\u001b[49m + \u001b[32m4\u001b[39m\n\u001b[32m      4\u001b[39m \u001b[38;5;66;03m# M[2,1] =\u001b[39;00m\n",
            "\u001b[31mNameError\u001b[39m: name 'maxScore' is not defined"
          ]
        }
      ],
      "source": [
        "# Grader's area\n",
        "\n",
        "maxScore = maxScore + 4\n",
        "# M[2,1] ="
      ]
    },
    {
      "cell_type": "markdown",
      "metadata": {
        "id": "l3KaR1wZyRgK"
      },
      "source": [
        "-----------------\n",
        "-----------------\n",
        "-----------------\n",
        "-----------------"
      ]
    },
    {
      "cell_type": "code",
      "execution_count": null,
      "metadata": {
        "colab": {
          "base_uri": "https://localhost:8080/",
          "height": 537
        },
        "id": "FzOg-yJwfGLe",
        "outputId": "c69c739d-195f-4db3-ebca-b9eb035dea4e"
      },
      "outputs": [
        {
          "data": {
            "image/png": "[encoded data removed]",
            "text/plain": [
              "<Figure size 640x480 with 1 Axes>"
            ]
          },
          "metadata": {},
          "output_type": "display_data"
        },
        {
          "name": "stdout",
          "output_type": "stream",
          "text": [
            "Bin sizes: [329.  26.  14.   9.  13.  12.  11.   9.   8.   9.   9.   6.   5.   4.   3.   7.   4.   4.   1.   1.   3.   1.   1.   1.\n",
            "   1.   1.   1.   3.   1.   0.   0.   1.   0.   0.   0.   0.   0.   0.   0.   0.   0.   1.   1.   0.   0.   0.   1.   0.\n",
            "   0.   0.   1.   0.   0.   0.   0.   0.   1.   0.   0.   0.   0.   0.   0.   0.   0.   0.   0.   0.   0.   0.   0.   0.\n",
            "   0.   0.   0.   1.   0.   0.   0.   0.   0.   1.   0.   0.   0.   0.   0.   0.   0.   0.   0.   0.   0.   0.   0.   0.\n",
            "   0.   0.   1.]\n"
          ]
        }
      ],
      "source": [
        "import matplotlib.pyplot as plt\n",
        "\n",
        "# Plot the distribution of crime based on the data\n",
        "n, bins, patches = plt.hist(samples[:,0],bins='auto')\n",
        "plt.title('Distribution of crimes')\n",
        "plt.show()\n",
        "print('Bin sizes: {}'.format(n))"
      ]
    },
    {
      "cell_type": "markdown",
      "metadata": {
        "id": "53VG7TETfGLg"
      },
      "source": [
        "\n",
        "## <font color='#008DFF'> <b>Question 3</b>\n",
        "\n",
        "Plot the histogram of another feature of the dataset that you are interested in, give the plot a title, and print out the bin sizes. <br><br>\n",
        "<b>Answer</b>"
      ]
    },
    {
      "cell_type": "code",
      "execution_count": 14,
      "metadata": {
        "id": "MALZsy3AfGLg"
      },
      "outputs": [
        {
          "name": "stderr",
          "output_type": "stream",
          "text": [
            "<>:6: SyntaxWarning: invalid escape sequence '\\s'\n",
            "<>:6: SyntaxWarning: invalid escape sequence '\\s'\n",
            "/tmp/ipykernel_3315/576228584.py:6: SyntaxWarning: invalid escape sequence '\\s'\n",
            "  ds = pd.read_csv(data_url, sep=\"\\s+\", skiprows=22, header=None)\n"
          ]
        },
        {
          "data": {
            "image/png": "[encoded data removed]",
            "text/plain": [
              "<Figure size 640x480 with 1 Axes>"
            ]
          },
          "metadata": {},
          "output_type": "display_data"
        },
        {
          "name": "stdout",
          "output_type": "stream",
          "text": [
            "Bin sizes: [ 1.  1.  0.  2.  1.  2.  1.  8.  5.  7. 17. 34. 56. 65. 75. 62. 42. 35. 26. 16. 15.  9.  4.  7.  4.  1.  7.  0.  3.]\n"
          ]
        }
      ],
      "source": [
        "import pandas as pd\n",
        "import numpy as np\n",
        "import matplotlib.pyplot as plt\n",
        "\n",
        "data_url = \"http://lib.stat.cmu.edu/datasets/boston\"\n",
        "ds = pd.read_csv(data_url, sep=\"\\s+\", skiprows=22, header=None)\n",
        "samples = np.hstack([ds.values[::2, :], ds.values[1::2, :2]])\n",
        "label = ds.values[1::2, 2]\n",
        "\n",
        "n, bins, patches = plt.hist(samples[:,5], bins='auto')\n",
        "plt.title('Distribution of average rooms per dwelling')\n",
        "plt.show()\n",
        "\n",
        "print('Bin sizes: {}'.format(n))"
      ]
    },
    {
      "cell_type": "code",
      "execution_count": null,
      "metadata": {
        "id": "rGw6wsAfkHzL"
      },
      "outputs": [],
      "source": [
        "# Grader's area\n",
        "\n",
        "maxScore = maxScore+4\n",
        "# M[3,1] ="
      ]
    },
    {
      "cell_type": "markdown",
      "metadata": {
        "id": "cDbu6VbOxzNJ"
      },
      "source": [
        "------------------\n",
        "------------------\n",
        "------------------\n",
        "------------------\n",
        "\n",
        "\n",
        "\n",
        "\n"
      ]
    },
    {
      "cell_type": "code",
      "execution_count": null,
      "metadata": {
        "colab": {
          "base_uri": "https://localhost:8080/"
        },
        "id": "yTYkJsHgfGLk",
        "outputId": "6b0765f8-496d-4c38-f3a2-dc8997df3d6c"
      },
      "outputs": [
        {
          "data": {
            "text/plain": [
              "array([[  0.00632,  18.     ,   2.31   , ...,  15.3    , 396.9    ,   4.98   ],\n",
              "       [  0.02731,   0.     ,   7.07   , ...,  17.8    , 396.9    ,   9.14   ],\n",
              "       [  0.02729,   0.     ,   7.07   , ...,  17.8    , 392.83   ,   4.03   ],\n",
              "       ...,\n",
              "       [  0.06076,   0.     ,  11.93   , ...,  21.     , 396.9    ,   5.64   ],\n",
              "       [  0.10959,   0.     ,  11.93   , ...,  21.     , 393.45   ,   6.48   ],\n",
              "       [  0.04741,   0.     ,  11.93   , ...,  21.     , 396.9    ,   7.88   ]])"
            ]
          },
          "execution_count": 57,
          "metadata": {},
          "output_type": "execute_result"
        }
      ],
      "source": [
        "def house_with_defined_age(dataset,age):\n",
        "    '''This function will return the indices of all houses with the proportion of owner-occupied units built prior to 1940 greater than age%'''\n",
        "    ids = []\n",
        "    for id, record in enumerate(dataset):\n",
        "        if record[6]>age:\n",
        "            ids.append(id)\n",
        "    return ids\n",
        "\n",
        "\n",
        "# list all records with units built prior to 1940 greater than 50%\n",
        "samples[house_with_defined_age(samples,50)]"
      ]
    },
    {
      "cell_type": "markdown",
      "metadata": {
        "id": "N3zhYgVKfGLm"
      },
      "source": [
        "\n",
        "## <font color='#008DFF'> **Question 4**\n",
        "\n",
        "Write a function that takes as input the given dataset and two numbers $a$ and $b$, and returns the IDs of houses for which tax is either less than $a$ or more than $b$. Demonstrate how the function runs with two specific inputs $a$ and $b$ of your choice.\n",
        "\n"
      ]
    },
    {
      "cell_type": "code",
      "execution_count": 17,
      "metadata": {
        "id": "6_0OKNXtfGLn"
      },
      "outputs": [
        {
          "name": "stdout",
          "output_type": "stream",
          "text": [
            "House IDs: [0, 1, 2, 3, 4, 5, 35, 36, 37, 38, 39, 40, 41, 42, 43, 44, 45, 46, 47, 48, 49, 50, 51, 52, 53, 55, 57, 58, 59, 60, 61, 62, 63, 64, 80, 81, 82, 83, 84, 85, 86, 87, 88, 89, 90, 91, 92, 93, 94, 95, 96, 97, 98, 99, 120, 121, 122, 123, 124, 125, 126, 172, 173, 174, 175, 176, 177, 178, 179, 180, 181, 182, 183, 184, 185, 186, 193, 194, 195, 203, 204, 205, 206, 207, 208, 209, 210, 211, 212, 213, 214, 215, 216, 217, 218, 219, 256, 257, 258, 259, 260, 261, 262, 263, 264, 265, 266, 267, 268, 269, 270, 271, 272, 273, 274, 275, 276, 277, 278, 279, 280, 281, 282, 283, 284, 286, 287, 288, 289, 290, 291, 292, 293, 294, 295, 296, 297, 304, 305, 306, 307, 320, 321, 322, 323, 324, 325, 326, 327, 333, 334, 335, 336, 337, 338, 339, 340, 341, 348, 353, 356, 357, 358, 359, 360, 361, 362, 363, 364, 365, 366, 367, 368, 369, 370, 371, 372, 373, 374, 375, 376, 377, 378, 379, 380, 381, 382, 383, 384, 385, 386, 387, 388, 389, 390, 391, 392, 393, 394, 395, 396, 397, 398, 399, 400, 401, 402, 403, 404, 405, 406, 407, 408, 409, 410, 411, 412, 413, 414, 415, 416, 417, 418, 419, 420, 421, 422, 423, 424, 425, 426, 427, 428, 429, 430, 431, 432, 433, 434, 435, 436, 437, 438, 439, 440, 441, 442, 443, 444, 445, 446, 447, 448, 449, 450, 451, 452, 453, 454, 455, 456, 457, 458, 459, 460, 461, 462, 463, 464, 465, 466, 467, 468, 469, 470, 471, 472, 473, 474, 475, 476, 477, 478, 479, 480, 481, 482, 483, 484, 485, 486, 487, 488, 489, 490, 491, 492, 501, 502, 503, 504, 505]\n",
            "Records:\n",
            " [[  0.00632  18.        2.31    ...  15.3     396.9       4.98   ]\n",
            " [  0.02731   0.        7.07    ...  17.8     396.9       9.14   ]\n",
            " [  0.02729   0.        7.07    ...  17.8     392.83      4.03   ]\n",
            " ...\n",
            " [  0.06076   0.       11.93    ...  21.      396.9       5.64   ]\n",
            " [  0.10959   0.       11.93    ...  21.      393.45      6.48   ]\n",
            " [  0.04741   0.       11.93    ...  21.      396.9       7.88   ]]\n"
          ]
        }
      ],
      "source": [
        "def houseWithTaxOutRange(dataset, a, b):\n",
        "    ids = []\n",
        "    for idx, record in enumerate(dataset):\n",
        "        if record[9] < a or record[9] > b:\n",
        "            ids.append(idx)\n",
        "    return ids\n",
        "\n",
        "ids = houseWithTaxOutRange(samples, 300, 600)\n",
        "print(\"House IDs:\", ids)\n",
        "print(\"Records:\\n\", samples[ids])\n",
        "\n",
        "\n",
        "\n",
        "\n",
        "\n"
      ]
    },
    {
      "cell_type": "code",
      "execution_count": null,
      "metadata": {
        "id": "upNrvOZQAqVf"
      },
      "outputs": [],
      "source": [
        "# Grader's area\n",
        "\n",
        "maxScore = maxScore + 4\n",
        "# M[4,1]="
      ]
    },
    {
      "cell_type": "markdown",
      "metadata": {
        "id": "FwAL2fEc2cRP"
      },
      "source": [
        "------------------------------------------\n",
        "------------------------------------------\n",
        "------------------------------------------\n",
        "------------------------------------------"
      ]
    },
    {
      "cell_type": "markdown",
      "metadata": {
        "id": "0h4pDnxJ-06z"
      },
      "source": [
        "## **Part 3: *k*-NN simple implementation**\n",
        "\n",
        "Here we use a simple implementation of *k*-NN in order to understand how objects and methods work."
      ]
    },
    {
      "cell_type": "markdown",
      "metadata": {
        "id": "5ntY4Cih-qYl"
      },
      "source": [
        "## <font color='#008DFF'> **Question 5**\n",
        "\n"
      ]
    },
    {
      "cell_type": "code",
      "execution_count": 24,
      "metadata": {
        "id": "EKQWqF-FAuky"
      },
      "outputs": [],
      "source": [
        "# the following algorithm is an implementation of the kNN pseudocode we discussed in the lecture\n",
        "\n",
        "class kNN_classifier:\n",
        "  # the hyperparameters that define the object/algorithm\n",
        "  # these are given at initialization\n",
        "  def __init__(self,k, distance='euclidean'):\n",
        "    self.k = k\n",
        "    self.distance = distance\n",
        "\n",
        "\n",
        "  #here we define the methods of the knn classifier object\n",
        "\n",
        "  #the fit method takes as input the data and labels\n",
        "  def fit(self,X,y):\n",
        "    # siply save X, y as part of the object\n",
        "    # y is assumed to have labels 0 or 1 (binary classifier)\n",
        "    self.X = X\n",
        "    self.y = y\n",
        "\n",
        "\n",
        "\n",
        "  def predict(self,x):\n",
        "\n",
        "    # here we expect x to be a row vector of the same\n",
        "    # dimension as the rows of X. no checks are done.\n",
        "\n",
        "    n = self.X.shape[0]\n",
        "    S = []\n",
        "    for j in range(n):\n",
        "\n",
        "      if self.distance =='euclidean':\n",
        "        dst = np.linalg.norm(x-self.X[j,:])\n",
        "\n",
        "      S.append(dst)\n",
        "\n",
        "    # sort distances\n",
        "    prm = np.argsort(S)\n",
        "\n",
        "\n",
        "    c = 0\n",
        "    for j in range(self.k):\n",
        "      idx = prm[j]\n",
        "      if self.y[idx] == 1:\n",
        "        c = c+1\n",
        "\n",
        "    if c >= self.k//2:\n",
        "      return 1\n",
        "    else:\n",
        "      return 0\n"
      ]
    },
    {
      "cell_type": "markdown",
      "metadata": {
        "id": "6eUGohNI_JPS"
      },
      "source": [
        "### <font color='#008DFF'>  **Question 5(i)**\n",
        "\n",
        "Re-use the scatter plot code from the beginning of [notes](https://colab.research.google.com/drive/1NIHv_CoknQt3UcrMSezu7iUJEsEeyaaN?usp=drive_fs) from Module 1 (Introduction) in order to create a simple dataset with 2 blobs/clusters. Check whether the labels vectors contains 0s and 1s as needed by our *k*-NN code."
      ]
    },
    {
      "cell_type": "code",
      "execution_count": 25,
      "metadata": {
        "id": "bp4DLWmz8vXn"
      },
      "outputs": [
        {
          "data": {
            "image/png": "[encoded data removed]",
            "text/plain": [
              "<Figure size 640x480 with 1 Axes>"
            ]
          },
          "metadata": {},
          "output_type": "display_data"
        },
        {
          "name": "stdout",
          "output_type": "stream",
          "text": [
            "Unique labels in Y2: [0 1]\n"
          ]
        }
      ],
      "source": [
        "import matplotlib.pyplot as plt\n",
        "from sklearn.datasets import make_blobs\n",
        "import numpy as np\n",
        "\n",
        "X2, Y2 = make_blobs(n_samples=100, n_features=2, centers=2, random_state=42)\n",
        "\n",
        "plt.scatter(X2[:, 0], X2[:, 1], marker=\"o\", c=Y2, s=25, edgecolor=\"k\")\n",
        "plt.title(\"2-Blob Dataset for kNN\")\n",
        "plt.show()\n",
        "\n",
        "print(\"Unique labels in Y2:\", np.unique(Y2))\n"
      ]
    },
    {
      "cell_type": "code",
      "execution_count": null,
      "metadata": {
        "id": "NqpvrcbI_xG1"
      },
      "outputs": [],
      "source": [
        "# Grader's area\n",
        "\n",
        "maxScore = maxScore +5\n",
        "#M[5,1] =\n",
        "\n"
      ]
    },
    {
      "cell_type": "markdown",
      "metadata": {
        "id": "knWS8oKD_9QI"
      },
      "source": []
    },
    {
      "cell_type": "markdown",
      "metadata": {
        "id": "SROYKfcm_9gk"
      },
      "source": [
        "### <font color='#008DFF'>  **Question 5(ii)**\n",
        "\n",
        "Initialize a *k*-NN classifier using the class we wrote above. (Hint: see the [*k*-NN lab](https://colab.research.google.com/drive/1Mh6I3bR8pE90kcs28JfKok59NtfV_7ct?usp=drive_fs) for an example of how to initialize an object.)"
      ]
    },
    {
      "cell_type": "code",
      "execution_count": null,
      "metadata": {
        "id": "2Ni9kwJLAQUc"
      },
      "outputs": [
        {
          "name": "stdout",
          "output_type": "stream",
          "text": [
            "Prediction for [-2  9] : 0\n"
          ]
        }
      ],
      "source": [
        "myKnn = kNN_classifier(k=5)\n",
        "\n",
        "myKnn.fit(X2, Y2)\n",
        "\n",
        "testPT = np.array([-2, 9])\n",
        "pred = myKnn.predict(testPT)\n",
        "\n",
        "print(\"Prediction for\", testPT, \":\", pred)"
      ]
    },
    {
      "cell_type": "code",
      "execution_count": null,
      "metadata": {
        "id": "701AcFiuAQUc"
      },
      "outputs": [],
      "source": [
        "# Grader's area\n",
        "\n",
        "maxScore = maxScore +5\n",
        "#M[5,2] =\n",
        "\n"
      ]
    },
    {
      "cell_type": "markdown",
      "metadata": {
        "id": "6VchLMyhAaP5"
      },
      "source": [
        "### <font color='#008DFF'>  **Question 5(iii)**\n",
        "\n",
        "Add code in the *k*-NN classifier defined above, in order to handle the case when the hyperparameter *distance* is set to 'Manhattan'."
      ]
    },
    {
      "cell_type": "code",
      "execution_count": null,
      "metadata": {
        "id": "_2w5NybMB6oT"
      },
      "outputs": [
        {
          "name": "stdout",
          "output_type": "stream",
          "text": [
            "Euclidean: 0\n",
            "Manhattan: 0\n"
          ]
        }
      ],
      "source": [
        "class kNN_classifier:\n",
        "    def __init__(self, k, distance='euclidean'):\n",
        "        self.k = k\n",
        "        self.distance = distance\n",
        "\n",
        "    def fit(self, X, y):\n",
        "        self.X = X\n",
        "        self.y = y\n",
        "\n",
        "    def predict(self, x):\n",
        "        n = self.X.shape[0]\n",
        "        S = []\n",
        "        for j in range(n):\n",
        "            if self.distance == 'euclidean':\n",
        "                dst = np.linalg.norm(x - self.X[j, :])\n",
        "            # THIS IS THE SECTION I ADDED TO THE ORIGINAL CODE\n",
        "            elif self.distance == 'manhattan':\n",
        "                dst = np.sum(np.abs(x - self.X[j, :]))\n",
        "            else:\n",
        "                raise ValueError(\"Unsupported distance metric. Use 'euclidean' or 'manhattan'.\")\n",
        "            S.append(dst)\n",
        "\n",
        "        prm = np.argsort(S)\n",
        "\n",
        "        c = 0\n",
        "        for j in range(self.k):\n",
        "            idx = prm[j]\n",
        "            if self.y[idx] == 1:\n",
        "                c += 1\n",
        "\n",
        "        if c >= self.k // 2:\n",
        "            return 1\n",
        "        else:\n",
        "            return 0\n",
        "        \n",
        "# Euclidean distance\n",
        "knnEuc = kNN_classifier(k=5, distance='euclidean')\n",
        "knnEuc.fit(X2, Y2)\n",
        "print(\"Euclidean:\", knnEuc.predict(np.array([-2, 9])))\n",
        "\n",
        "# Manhattan distance\n",
        "knnMan = kNN_classifier(k=5, distance='manhattan')\n",
        "knnMan.fit(X2, Y2)\n",
        "print(\"Manhattan:\", knnMan.predict(np.array([-2, 9])))"
      ]
    },
    {
      "cell_type": "code",
      "execution_count": null,
      "metadata": {
        "id": "HsiMfcevAqlW"
      },
      "outputs": [],
      "source": [
        "# Grader's area\n",
        "\n",
        "maxScore = maxScore +5\n",
        "#M[5,3] =\n",
        "\n"
      ]
    },
    {
      "cell_type": "markdown",
      "metadata": {
        "id": "oRMj1OX-B_fn"
      },
      "source": [
        "----------------------\n",
        "----------------------\n",
        "----------------------"
      ]
    },
    {
      "cell_type": "code",
      "execution_count": null,
      "metadata": {
        "id": "IVkneTzYCAxs"
      },
      "outputs": [],
      "source": [
        "# Grader's area\n",
        "\n",
        "rawScore = np.sum(M)\n",
        "score = rawScore*100/maxScore"
      ]
    }
  ],
  "metadata": {
    "colab": {
      "provenance": []
    },
    "kernelspec": {
      "display_name": ".venv",
      "language": "python",
      "name": "python3"
    },
    "language_info": {
      "codemirror_mode": {
        "name": "ipython",
        "version": 3
      },
      "file_extension": ".py",
      "mimetype": "text/x-python",
      "name": "python",
      "nbconvert_exporter": "python",
      "pygments_lexer": "ipython3",
      "version": "3.12.3"
    }
  },
  "nbformat": 4,
  "nbformat_minor": 0
}
